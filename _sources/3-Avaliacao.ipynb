{
 "cells": [
  {
   "cell_type": "markdown",
   "id": "41820e55-8e75-40fb-a5cf-58de4f9bc816",
   "metadata": {},
   "source": [
    "# Medidas de desempenho em classificação"
   ]
  },
  {
   "cell_type": "markdown",
   "id": "637d2132-352c-4275-99b2-490de655886c",
   "metadata": {},
   "source": [
    "## Matriz de Confusão\n",
    "\n",
    "A matriz de confusão é uma ferramenta fundamental na avaliação de algoritmos de classificação. Ela organiza e resume as previsões feitas por um classificador em comparação com os rótulos reais, permitindo uma análise detalhada dos acertos e erros.\n",
    "\n",
    "### Estrutura da Matriz de Confusão\n",
    "\n",
    "Uma matriz de confusão é representada como uma tabela quadrada que organiza as previsões em quatro categorias principais:\n",
    "\n",
    "- **Verdadeiro Positivo (VP)**: O classificador previu corretamente uma amostra como pertencente à classe positiva.\n",
    "- **Verdadeiro Negativo (VN)**: O classificador previu corretamente uma amostra como pertencente à classe negativa.\n",
    "- **Falso Positivo (FP)**: O classificador previu incorretamente uma amostra como pertencente à classe positiva, quando ela pertence à classe negativa (também conhecido como erro Tipo I).\n",
    "- **Falso Negativo (FN)**: O classificador previu incorretamente uma amostra como pertencente à classe negativa, quando ela pertence à classe positiva (também conhecido como erro Tipo II).\n",
    "\n",
    "Em um problema de duas classes, a matriz de confusão pode ser representada da seguinte maneira:\n",
    "\n",
    "|               | **Classe Predita: Positivo** | **Classe Predita: Negativo** |\n",
    "|---------------|------------------------------|------------------------------|\n",
    "| **Classe Real: Positivo** | Verdadeiro Positivo (VP)    | Falso Negativo (FN)         |\n",
    "| **Classe Real: Negativo** | Falso Positivo (FP)         | Verdadeiro Negativo (VN)    |\n",
    "\n",
    "### Exemplo com o Dataset Iris"
   ]
  },
  {
   "cell_type": "code",
   "execution_count": 1,
   "id": "b535aac5-d890-4746-be84-ac57da85580f",
   "metadata": {},
   "outputs": [],
   "source": [
    "## Importando bibliotecas\n",
    "from sklearn.datasets import load_iris\n",
    "import pandas as pd\n",
    "import numpy as np\n",
    "import matplotlib.pyplot as plt\n",
    "\n",
    "from sklearn.model_selection import train_test_split\n",
    "from sklearn.linear_model import LogisticRegression\n",
    "from sklearn.metrics import ConfusionMatrixDisplay\n",
    "from sklearn.metrics import confusion_matrix, accuracy_score, precision_score, recall_score, f1_score"
   ]
  },
  {
   "cell_type": "code",
   "execution_count": 2,
   "id": "031efec5-5a11-4549-9bf9-cdb4a074984a",
   "metadata": {},
   "outputs": [],
   "source": [
    "# Carregando o dataset Iris\n",
    "iris = load_iris()\n",
    "\n",
    "# Criando um DataFrame para explorar os dados\n",
    "df_iris = pd.DataFrame(iris.data, columns=iris.feature_names)\n",
    "df_iris['target'] = iris.target\n",
    "df_iris['target_name'] = df_iris['target'].apply(lambda x: iris.target_names[x])"
   ]
  },
  {
   "cell_type": "markdown",
   "id": "a613dd17-7d05-4338-a426-fbecd2125e68",
   "metadata": {},
   "source": [
    "Vamos simplificar o problema para apenas duas classes"
   ]
  },
  {
   "cell_type": "code",
   "execution_count": 3,
   "id": "3173185f-2607-47f6-94ba-2bb5d9062b29",
   "metadata": {},
   "outputs": [
    {
     "data": {
      "text/plain": [
       "array([0, 1])"
      ]
     },
     "execution_count": 3,
     "metadata": {},
     "output_type": "execute_result"
    }
   ],
   "source": [
    "df_iris['binary_target'] = df_iris['target'].apply(lambda x: 1 if x == 1 else 0)\n",
    "df_iris[\"binary_target\"].unique()"
   ]
  },
  {
   "cell_type": "code",
   "execution_count": 4,
   "id": "a6a19bd8-dbcf-4e67-a96e-d00c32c3f20a",
   "metadata": {},
   "outputs": [
    {
     "data": {
      "text/plain": [
       "binary_target\n",
       "0    100\n",
       "1     50\n",
       "Name: count, dtype: int64"
      ]
     },
     "execution_count": 4,
     "metadata": {},
     "output_type": "execute_result"
    }
   ],
   "source": [
    "df_iris['binary_target'].value_counts()"
   ]
  },
  {
   "cell_type": "code",
   "execution_count": 5,
   "id": "90bd04dc-a8c7-4c22-afb3-3c77546faca8",
   "metadata": {},
   "outputs": [],
   "source": [
    "# Separando as variáveis independentes e dependentes\n",
    "X = iris.data\n",
    "y = df_iris['binary_target']"
   ]
  },
  {
   "cell_type": "code",
   "execution_count": 6,
   "id": "0112e48b-dcfc-4563-98e8-30d2cd06f7de",
   "metadata": {},
   "outputs": [],
   "source": [
    "# Separando dados em treino e teste\n",
    "X_train, X_test, y_train, y_test = train_test_split(X, y, test_size=0.7, random_state=2)"
   ]
  },
  {
   "cell_type": "code",
   "execution_count": 7,
   "id": "aaf0fc04-9842-482b-8638-ed63fa8c6066",
   "metadata": {},
   "outputs": [
    {
     "data": {
      "text/html": [
       "<style>#sk-container-id-1 {\n",
       "  /* Definition of color scheme common for light and dark mode */\n",
       "  --sklearn-color-text: black;\n",
       "  --sklearn-color-line: gray;\n",
       "  /* Definition of color scheme for unfitted estimators */\n",
       "  --sklearn-color-unfitted-level-0: #fff5e6;\n",
       "  --sklearn-color-unfitted-level-1: #f6e4d2;\n",
       "  --sklearn-color-unfitted-level-2: #ffe0b3;\n",
       "  --sklearn-color-unfitted-level-3: chocolate;\n",
       "  /* Definition of color scheme for fitted estimators */\n",
       "  --sklearn-color-fitted-level-0: #f0f8ff;\n",
       "  --sklearn-color-fitted-level-1: #d4ebff;\n",
       "  --sklearn-color-fitted-level-2: #b3dbfd;\n",
       "  --sklearn-color-fitted-level-3: cornflowerblue;\n",
       "\n",
       "  /* Specific color for light theme */\n",
       "  --sklearn-color-text-on-default-background: var(--sg-text-color, var(--theme-code-foreground, var(--jp-content-font-color1, black)));\n",
       "  --sklearn-color-background: var(--sg-background-color, var(--theme-background, var(--jp-layout-color0, white)));\n",
       "  --sklearn-color-border-box: var(--sg-text-color, var(--theme-code-foreground, var(--jp-content-font-color1, black)));\n",
       "  --sklearn-color-icon: #696969;\n",
       "\n",
       "  @media (prefers-color-scheme: dark) {\n",
       "    /* Redefinition of color scheme for dark theme */\n",
       "    --sklearn-color-text-on-default-background: var(--sg-text-color, var(--theme-code-foreground, var(--jp-content-font-color1, white)));\n",
       "    --sklearn-color-background: var(--sg-background-color, var(--theme-background, var(--jp-layout-color0, #111)));\n",
       "    --sklearn-color-border-box: var(--sg-text-color, var(--theme-code-foreground, var(--jp-content-font-color1, white)));\n",
       "    --sklearn-color-icon: #878787;\n",
       "  }\n",
       "}\n",
       "\n",
       "#sk-container-id-1 {\n",
       "  color: var(--sklearn-color-text);\n",
       "}\n",
       "\n",
       "#sk-container-id-1 pre {\n",
       "  padding: 0;\n",
       "}\n",
       "\n",
       "#sk-container-id-1 input.sk-hidden--visually {\n",
       "  border: 0;\n",
       "  clip: rect(1px 1px 1px 1px);\n",
       "  clip: rect(1px, 1px, 1px, 1px);\n",
       "  height: 1px;\n",
       "  margin: -1px;\n",
       "  overflow: hidden;\n",
       "  padding: 0;\n",
       "  position: absolute;\n",
       "  width: 1px;\n",
       "}\n",
       "\n",
       "#sk-container-id-1 div.sk-dashed-wrapped {\n",
       "  border: 1px dashed var(--sklearn-color-line);\n",
       "  margin: 0 0.4em 0.5em 0.4em;\n",
       "  box-sizing: border-box;\n",
       "  padding-bottom: 0.4em;\n",
       "  background-color: var(--sklearn-color-background);\n",
       "}\n",
       "\n",
       "#sk-container-id-1 div.sk-container {\n",
       "  /* jupyter's `normalize.less` sets `[hidden] { display: none; }`\n",
       "     but bootstrap.min.css set `[hidden] { display: none !important; }`\n",
       "     so we also need the `!important` here to be able to override the\n",
       "     default hidden behavior on the sphinx rendered scikit-learn.org.\n",
       "     See: https://github.com/scikit-learn/scikit-learn/issues/21755 */\n",
       "  display: inline-block !important;\n",
       "  position: relative;\n",
       "}\n",
       "\n",
       "#sk-container-id-1 div.sk-text-repr-fallback {\n",
       "  display: none;\n",
       "}\n",
       "\n",
       "div.sk-parallel-item,\n",
       "div.sk-serial,\n",
       "div.sk-item {\n",
       "  /* draw centered vertical line to link estimators */\n",
       "  background-image: linear-gradient(var(--sklearn-color-text-on-default-background), var(--sklearn-color-text-on-default-background));\n",
       "  background-size: 2px 100%;\n",
       "  background-repeat: no-repeat;\n",
       "  background-position: center center;\n",
       "}\n",
       "\n",
       "/* Parallel-specific style estimator block */\n",
       "\n",
       "#sk-container-id-1 div.sk-parallel-item::after {\n",
       "  content: \"\";\n",
       "  width: 100%;\n",
       "  border-bottom: 2px solid var(--sklearn-color-text-on-default-background);\n",
       "  flex-grow: 1;\n",
       "}\n",
       "\n",
       "#sk-container-id-1 div.sk-parallel {\n",
       "  display: flex;\n",
       "  align-items: stretch;\n",
       "  justify-content: center;\n",
       "  background-color: var(--sklearn-color-background);\n",
       "  position: relative;\n",
       "}\n",
       "\n",
       "#sk-container-id-1 div.sk-parallel-item {\n",
       "  display: flex;\n",
       "  flex-direction: column;\n",
       "}\n",
       "\n",
       "#sk-container-id-1 div.sk-parallel-item:first-child::after {\n",
       "  align-self: flex-end;\n",
       "  width: 50%;\n",
       "}\n",
       "\n",
       "#sk-container-id-1 div.sk-parallel-item:last-child::after {\n",
       "  align-self: flex-start;\n",
       "  width: 50%;\n",
       "}\n",
       "\n",
       "#sk-container-id-1 div.sk-parallel-item:only-child::after {\n",
       "  width: 0;\n",
       "}\n",
       "\n",
       "/* Serial-specific style estimator block */\n",
       "\n",
       "#sk-container-id-1 div.sk-serial {\n",
       "  display: flex;\n",
       "  flex-direction: column;\n",
       "  align-items: center;\n",
       "  background-color: var(--sklearn-color-background);\n",
       "  padding-right: 1em;\n",
       "  padding-left: 1em;\n",
       "}\n",
       "\n",
       "\n",
       "/* Toggleable style: style used for estimator/Pipeline/ColumnTransformer box that is\n",
       "clickable and can be expanded/collapsed.\n",
       "- Pipeline and ColumnTransformer use this feature and define the default style\n",
       "- Estimators will overwrite some part of the style using the `sk-estimator` class\n",
       "*/\n",
       "\n",
       "/* Pipeline and ColumnTransformer style (default) */\n",
       "\n",
       "#sk-container-id-1 div.sk-toggleable {\n",
       "  /* Default theme specific background. It is overwritten whether we have a\n",
       "  specific estimator or a Pipeline/ColumnTransformer */\n",
       "  background-color: var(--sklearn-color-background);\n",
       "}\n",
       "\n",
       "/* Toggleable label */\n",
       "#sk-container-id-1 label.sk-toggleable__label {\n",
       "  cursor: pointer;\n",
       "  display: block;\n",
       "  width: 100%;\n",
       "  margin-bottom: 0;\n",
       "  padding: 0.5em;\n",
       "  box-sizing: border-box;\n",
       "  text-align: center;\n",
       "}\n",
       "\n",
       "#sk-container-id-1 label.sk-toggleable__label-arrow:before {\n",
       "  /* Arrow on the left of the label */\n",
       "  content: \"▸\";\n",
       "  float: left;\n",
       "  margin-right: 0.25em;\n",
       "  color: var(--sklearn-color-icon);\n",
       "}\n",
       "\n",
       "#sk-container-id-1 label.sk-toggleable__label-arrow:hover:before {\n",
       "  color: var(--sklearn-color-text);\n",
       "}\n",
       "\n",
       "/* Toggleable content - dropdown */\n",
       "\n",
       "#sk-container-id-1 div.sk-toggleable__content {\n",
       "  max-height: 0;\n",
       "  max-width: 0;\n",
       "  overflow: hidden;\n",
       "  text-align: left;\n",
       "  /* unfitted */\n",
       "  background-color: var(--sklearn-color-unfitted-level-0);\n",
       "}\n",
       "\n",
       "#sk-container-id-1 div.sk-toggleable__content.fitted {\n",
       "  /* fitted */\n",
       "  background-color: var(--sklearn-color-fitted-level-0);\n",
       "}\n",
       "\n",
       "#sk-container-id-1 div.sk-toggleable__content pre {\n",
       "  margin: 0.2em;\n",
       "  border-radius: 0.25em;\n",
       "  color: var(--sklearn-color-text);\n",
       "  /* unfitted */\n",
       "  background-color: var(--sklearn-color-unfitted-level-0);\n",
       "}\n",
       "\n",
       "#sk-container-id-1 div.sk-toggleable__content.fitted pre {\n",
       "  /* unfitted */\n",
       "  background-color: var(--sklearn-color-fitted-level-0);\n",
       "}\n",
       "\n",
       "#sk-container-id-1 input.sk-toggleable__control:checked~div.sk-toggleable__content {\n",
       "  /* Expand drop-down */\n",
       "  max-height: 200px;\n",
       "  max-width: 100%;\n",
       "  overflow: auto;\n",
       "}\n",
       "\n",
       "#sk-container-id-1 input.sk-toggleable__control:checked~label.sk-toggleable__label-arrow:before {\n",
       "  content: \"▾\";\n",
       "}\n",
       "\n",
       "/* Pipeline/ColumnTransformer-specific style */\n",
       "\n",
       "#sk-container-id-1 div.sk-label input.sk-toggleable__control:checked~label.sk-toggleable__label {\n",
       "  color: var(--sklearn-color-text);\n",
       "  background-color: var(--sklearn-color-unfitted-level-2);\n",
       "}\n",
       "\n",
       "#sk-container-id-1 div.sk-label.fitted input.sk-toggleable__control:checked~label.sk-toggleable__label {\n",
       "  background-color: var(--sklearn-color-fitted-level-2);\n",
       "}\n",
       "\n",
       "/* Estimator-specific style */\n",
       "\n",
       "/* Colorize estimator box */\n",
       "#sk-container-id-1 div.sk-estimator input.sk-toggleable__control:checked~label.sk-toggleable__label {\n",
       "  /* unfitted */\n",
       "  background-color: var(--sklearn-color-unfitted-level-2);\n",
       "}\n",
       "\n",
       "#sk-container-id-1 div.sk-estimator.fitted input.sk-toggleable__control:checked~label.sk-toggleable__label {\n",
       "  /* fitted */\n",
       "  background-color: var(--sklearn-color-fitted-level-2);\n",
       "}\n",
       "\n",
       "#sk-container-id-1 div.sk-label label.sk-toggleable__label,\n",
       "#sk-container-id-1 div.sk-label label {\n",
       "  /* The background is the default theme color */\n",
       "  color: var(--sklearn-color-text-on-default-background);\n",
       "}\n",
       "\n",
       "/* On hover, darken the color of the background */\n",
       "#sk-container-id-1 div.sk-label:hover label.sk-toggleable__label {\n",
       "  color: var(--sklearn-color-text);\n",
       "  background-color: var(--sklearn-color-unfitted-level-2);\n",
       "}\n",
       "\n",
       "/* Label box, darken color on hover, fitted */\n",
       "#sk-container-id-1 div.sk-label.fitted:hover label.sk-toggleable__label.fitted {\n",
       "  color: var(--sklearn-color-text);\n",
       "  background-color: var(--sklearn-color-fitted-level-2);\n",
       "}\n",
       "\n",
       "/* Estimator label */\n",
       "\n",
       "#sk-container-id-1 div.sk-label label {\n",
       "  font-family: monospace;\n",
       "  font-weight: bold;\n",
       "  display: inline-block;\n",
       "  line-height: 1.2em;\n",
       "}\n",
       "\n",
       "#sk-container-id-1 div.sk-label-container {\n",
       "  text-align: center;\n",
       "}\n",
       "\n",
       "/* Estimator-specific */\n",
       "#sk-container-id-1 div.sk-estimator {\n",
       "  font-family: monospace;\n",
       "  border: 1px dotted var(--sklearn-color-border-box);\n",
       "  border-radius: 0.25em;\n",
       "  box-sizing: border-box;\n",
       "  margin-bottom: 0.5em;\n",
       "  /* unfitted */\n",
       "  background-color: var(--sklearn-color-unfitted-level-0);\n",
       "}\n",
       "\n",
       "#sk-container-id-1 div.sk-estimator.fitted {\n",
       "  /* fitted */\n",
       "  background-color: var(--sklearn-color-fitted-level-0);\n",
       "}\n",
       "\n",
       "/* on hover */\n",
       "#sk-container-id-1 div.sk-estimator:hover {\n",
       "  /* unfitted */\n",
       "  background-color: var(--sklearn-color-unfitted-level-2);\n",
       "}\n",
       "\n",
       "#sk-container-id-1 div.sk-estimator.fitted:hover {\n",
       "  /* fitted */\n",
       "  background-color: var(--sklearn-color-fitted-level-2);\n",
       "}\n",
       "\n",
       "/* Specification for estimator info (e.g. \"i\" and \"?\") */\n",
       "\n",
       "/* Common style for \"i\" and \"?\" */\n",
       "\n",
       ".sk-estimator-doc-link,\n",
       "a:link.sk-estimator-doc-link,\n",
       "a:visited.sk-estimator-doc-link {\n",
       "  float: right;\n",
       "  font-size: smaller;\n",
       "  line-height: 1em;\n",
       "  font-family: monospace;\n",
       "  background-color: var(--sklearn-color-background);\n",
       "  border-radius: 1em;\n",
       "  height: 1em;\n",
       "  width: 1em;\n",
       "  text-decoration: none !important;\n",
       "  margin-left: 1ex;\n",
       "  /* unfitted */\n",
       "  border: var(--sklearn-color-unfitted-level-1) 1pt solid;\n",
       "  color: var(--sklearn-color-unfitted-level-1);\n",
       "}\n",
       "\n",
       ".sk-estimator-doc-link.fitted,\n",
       "a:link.sk-estimator-doc-link.fitted,\n",
       "a:visited.sk-estimator-doc-link.fitted {\n",
       "  /* fitted */\n",
       "  border: var(--sklearn-color-fitted-level-1) 1pt solid;\n",
       "  color: var(--sklearn-color-fitted-level-1);\n",
       "}\n",
       "\n",
       "/* On hover */\n",
       "div.sk-estimator:hover .sk-estimator-doc-link:hover,\n",
       ".sk-estimator-doc-link:hover,\n",
       "div.sk-label-container:hover .sk-estimator-doc-link:hover,\n",
       ".sk-estimator-doc-link:hover {\n",
       "  /* unfitted */\n",
       "  background-color: var(--sklearn-color-unfitted-level-3);\n",
       "  color: var(--sklearn-color-background);\n",
       "  text-decoration: none;\n",
       "}\n",
       "\n",
       "div.sk-estimator.fitted:hover .sk-estimator-doc-link.fitted:hover,\n",
       ".sk-estimator-doc-link.fitted:hover,\n",
       "div.sk-label-container:hover .sk-estimator-doc-link.fitted:hover,\n",
       ".sk-estimator-doc-link.fitted:hover {\n",
       "  /* fitted */\n",
       "  background-color: var(--sklearn-color-fitted-level-3);\n",
       "  color: var(--sklearn-color-background);\n",
       "  text-decoration: none;\n",
       "}\n",
       "\n",
       "/* Span, style for the box shown on hovering the info icon */\n",
       ".sk-estimator-doc-link span {\n",
       "  display: none;\n",
       "  z-index: 9999;\n",
       "  position: relative;\n",
       "  font-weight: normal;\n",
       "  right: .2ex;\n",
       "  padding: .5ex;\n",
       "  margin: .5ex;\n",
       "  width: min-content;\n",
       "  min-width: 20ex;\n",
       "  max-width: 50ex;\n",
       "  color: var(--sklearn-color-text);\n",
       "  box-shadow: 2pt 2pt 4pt #999;\n",
       "  /* unfitted */\n",
       "  background: var(--sklearn-color-unfitted-level-0);\n",
       "  border: .5pt solid var(--sklearn-color-unfitted-level-3);\n",
       "}\n",
       "\n",
       ".sk-estimator-doc-link.fitted span {\n",
       "  /* fitted */\n",
       "  background: var(--sklearn-color-fitted-level-0);\n",
       "  border: var(--sklearn-color-fitted-level-3);\n",
       "}\n",
       "\n",
       ".sk-estimator-doc-link:hover span {\n",
       "  display: block;\n",
       "}\n",
       "\n",
       "/* \"?\"-specific style due to the `<a>` HTML tag */\n",
       "\n",
       "#sk-container-id-1 a.estimator_doc_link {\n",
       "  float: right;\n",
       "  font-size: 1rem;\n",
       "  line-height: 1em;\n",
       "  font-family: monospace;\n",
       "  background-color: var(--sklearn-color-background);\n",
       "  border-radius: 1rem;\n",
       "  height: 1rem;\n",
       "  width: 1rem;\n",
       "  text-decoration: none;\n",
       "  /* unfitted */\n",
       "  color: var(--sklearn-color-unfitted-level-1);\n",
       "  border: var(--sklearn-color-unfitted-level-1) 1pt solid;\n",
       "}\n",
       "\n",
       "#sk-container-id-1 a.estimator_doc_link.fitted {\n",
       "  /* fitted */\n",
       "  border: var(--sklearn-color-fitted-level-1) 1pt solid;\n",
       "  color: var(--sklearn-color-fitted-level-1);\n",
       "}\n",
       "\n",
       "/* On hover */\n",
       "#sk-container-id-1 a.estimator_doc_link:hover {\n",
       "  /* unfitted */\n",
       "  background-color: var(--sklearn-color-unfitted-level-3);\n",
       "  color: var(--sklearn-color-background);\n",
       "  text-decoration: none;\n",
       "}\n",
       "\n",
       "#sk-container-id-1 a.estimator_doc_link.fitted:hover {\n",
       "  /* fitted */\n",
       "  background-color: var(--sklearn-color-fitted-level-3);\n",
       "}\n",
       "</style><div id=\"sk-container-id-1\" class=\"sk-top-container\"><div class=\"sk-text-repr-fallback\"><pre>LogisticRegression()</pre><b>In a Jupyter environment, please rerun this cell to show the HTML representation or trust the notebook. <br />On GitHub, the HTML representation is unable to render, please try loading this page with nbviewer.org.</b></div><div class=\"sk-container\" hidden><div class=\"sk-item\"><div class=\"sk-estimator fitted sk-toggleable\"><input class=\"sk-toggleable__control sk-hidden--visually\" id=\"sk-estimator-id-1\" type=\"checkbox\" checked><label for=\"sk-estimator-id-1\" class=\"sk-toggleable__label fitted sk-toggleable__label-arrow fitted\">&nbsp;&nbsp;LogisticRegression<a class=\"sk-estimator-doc-link fitted\" rel=\"noreferrer\" target=\"_blank\" href=\"https://scikit-learn.org/1.5/modules/generated/sklearn.linear_model.LogisticRegression.html\">?<span>Documentation for LogisticRegression</span></a><span class=\"sk-estimator-doc-link fitted\">i<span>Fitted</span></span></label><div class=\"sk-toggleable__content fitted\"><pre>LogisticRegression()</pre></div> </div></div></div></div>"
      ],
      "text/plain": [
       "LogisticRegression()"
      ]
     },
     "execution_count": 7,
     "metadata": {},
     "output_type": "execute_result"
    }
   ],
   "source": [
    "# Treinando um classificador de Regressão Logística\n",
    "model_bin = LogisticRegression()\n",
    "model_bin.fit(X_train, y_train)"
   ]
  },
  {
   "cell_type": "code",
   "execution_count": 8,
   "id": "eedeeab0-d15f-4a22-b917-20b25c17f373",
   "metadata": {},
   "outputs": [
    {
     "data": {
      "image/png": "[encoded data removed]",
      "text/plain": [
       "<Figure size 640x480 with 2 Axes>"
      ]
     },
     "metadata": {},
     "output_type": "display_data"
    }
   ],
   "source": [
    "# Fazendo previsões no conjunto de teste\n",
    "y_pred = model_bin.predict(X_test)\n",
    "\n",
    "_ = ConfusionMatrixDisplay.from_estimator(model_bin, X_test, y_test)"
   ]
  },
  {
   "cell_type": "markdown",
   "id": "d832643b-9a89-484c-9d10-969e3106c075",
   "metadata": {},
   "source": [
    "## Acurácia\n",
    "\n",
    "A **Acurácia** é a métrica mais simples e intuitiva, representando a proporção de previsões corretas feitas pelo classificador em relação ao total de previsões. Ela é dada pela fórmula:\n",
    "\n",
    "$$\n",
    "\\text{Acurácia} = \\frac{\\text{Número de Previsões Corretas}}{\\text{Número Total de Previsões}} = \\frac{VP + VN}{VP + VN + FP + FN}\n",
    "$$\n",
    "\n",
    "Onde:\n",
    "- **VP**: Verdadeiros Positivos (corretamente classificados como positivos)\n",
    "- **VN**: Verdadeiros Negativos (corretamente classificados como negativos)\n",
    "- **FP**: Falsos Positivos (incorretamente classificados como positivos)\n",
    "- **FN**: Falsos Negativos (incorretamente classificados como negativos)\n",
    "\n",
    "### Limitações da Acurácia\n",
    "\n",
    "A acurácia pode ser enganosa quando lidamos com **classes desbalanceadas**. Se, por exemplo, 95% dos dados pertencem a uma única classe, um modelo que sempre prevê essa classe terá uma acurácia alta, mesmo que não seja eficaz na detecção da classe minoritária.\n",
    "\n",
    "No caso de classificação binária com o **dataset Iris**, temos uma distribuição desbalanceada, com 100 amostras da classe 0 e 50 amostras da classe 1.\n",
    "\n",
    "Se o modelo \"chutasse\" todas as previsões como  classe 0, ele ainda teria uma **acurácia** de quase 70%."
   ]
  },
  {
   "cell_type": "code",
   "execution_count": 9,
   "id": "0e66075c-1d5f-4e6d-a499-81fc64306c2b",
   "metadata": {},
   "outputs": [
    {
     "name": "stdout",
     "output_type": "stream",
     "text": [
      "\n",
      "Acurácia: 0.71\n"
     ]
    }
   ],
   "source": [
    "# Calculando a acurácia\n",
    "accuracy = accuracy_score(y_test, y_pred)\n",
    "print(f\"\\nAcurácia: {accuracy:.2f}\")"
   ]
  },
  {
   "cell_type": "markdown",
   "id": "0958a10b-feb9-4f96-8e68-209d915b3dfc",
   "metadata": {},
   "source": [
    "## Precisão (Precision)\n",
    "\n",
    "A **Precisão** (ou Precision) é uma métrica que mede a proporção de previsões positivas corretas feitas por um modelo de classificação. Ela é particularmente útil quando o custo de **falsos positivos** é alto, ou seja, quando é importante garantir que as previsões positivas sejam realmente precisas.\n",
    "\n",
    "A fórmula da precisão é dada por:\n",
    "\n",
    "$$\n",
    "\\text{Precisão} = \\frac{\\text{Verdadeiros Positivos (VP)}}{\\text{Verdadeiros Positivos (VP)} + \\text{Falsos Positivos (FP)}}\n",
    "$$\n",
    "\n",
    "A precisão responde à pergunta:\n",
    "\n",
    "**\"Entre todas as previsões positivas feitas pelo modelo, quantas estavam corretas?\"**\n",
    "\n",
    "### Exemplo com o Dataset Iris"
   ]
  },
  {
   "cell_type": "code",
   "execution_count": 10,
   "id": "6635589d-fbd0-468b-92c9-44e90ada101a",
   "metadata": {},
   "outputs": [
    {
     "name": "stdout",
     "output_type": "stream",
     "text": [
      "Precisão (Classe 1): 0.51\n"
     ]
    }
   ],
   "source": [
    "# Calculando a precisão para a classe 1 (Não-Setosa)\n",
    "precision = precision_score(y_test, y_pred)\n",
    "print(f\"Precisão (Classe 1): {precision:.2f}\")"
   ]
  },
  {
   "cell_type": "markdown",
   "id": "ce5e39c7-521f-4bb3-9ff9-b11ac530c356",
   "metadata": {},
   "source": [
    "## Recall (Revocação)\n",
    "\n",
    "A **Revocação** (ou Recall) é uma métrica que mede a capacidade do modelo de identificar corretamente todas as amostras positivas. Ela é particularmente útil quando o custo de **falsos negativos** é alto, ou seja, quando é importante garantir que o modelo consiga capturar todos os exemplos da classe positiva.\n",
    "\n",
    "A fórmula da revocação é:\n",
    "\n",
    "$$\n",
    "\\text{Revocação} = \\frac{\\text{Verdadeiros Positivos (VP)}}{\\text{Verdadeiros Positivos (VP)} + \\text{Falsos Negativos (FN)}}\n",
    "$$\n",
    "\n",
    "A revocação responde à pergunta:\n",
    "\n",
    "**\"Entre todas as amostras que realmente pertencem à classe positiva, quantas foram corretamente classificadas?\"**\n"
   ]
  },
  {
   "cell_type": "code",
   "execution_count": 11,
   "id": "6dca0dfa-186e-4cf0-af5e-e4c751808f3f",
   "metadata": {},
   "outputs": [
    {
     "name": "stdout",
     "output_type": "stream",
     "text": [
      "Revocação (Classe 1): 0.65\n"
     ]
    }
   ],
   "source": [
    "# Calculando a revocação para a classe 1 (Não-Setosa)\n",
    "recall = recall_score(y_test, y_pred)\n",
    "print(f\"Revocação (Classe 1): {recall:.2f}\")"
   ]
  },
  {
   "cell_type": "markdown",
   "id": "a7b4b053-1733-44e9-a578-be06cb6bdcff",
   "metadata": {},
   "source": [
    "## F1-Score\n",
    "\n",
    "O **F1-Score** é uma métrica que combina as informações de **Precisão** e **Revocação** em uma única medida. Ele é particularmente útil em situações em que há um desbalanceamento entre as classes, e buscamos um equilíbrio entre a capacidade do modelo de identificar corretamente os positivos (Revocação) e de minimizar os falsos positivos (Precisão).\n",
    "\n",
    "O **F1-Score** é calculado como a **média harmônica** entre a Precisão e a Revocação, e sua fórmula é:\n",
    "\n",
    "$$\n",
    "F1 = 2 \\times \\frac{\\text{Precisão} \\times \\text{Revocação}}{\\text{Precisão} + \\text{Revocação}}\n",
    "$$\n",
    "\n",
    "### Interpretação\n",
    "\n",
    "O **F1-Score** varia de 0 a 1, onde:\n",
    "- **1** indica que o modelo tem alta Precisão e alta Revocação (um equilíbrio perfeito).\n",
    "- **0** significa que o modelo falhou completamente.\n",
    "\n",
    "O **F1-Score** é útil em casos onde temos classes desbalanceadas e precisamos garantir que o modelo tenha bom desempenho tanto em termos de detectar os positivos quanto em não cometer muitos erros ao classificá-los. \n"
   ]
  },
  {
   "cell_type": "code",
   "execution_count": 12,
   "id": "813cdb1a-8638-413f-bcc9-376cadb1377c",
   "metadata": {},
   "outputs": [
    {
     "name": "stdout",
     "output_type": "stream",
     "text": [
      "F1-Score (Classe 1): 0.57\n"
     ]
    }
   ],
   "source": [
    "# Calculando o F1-Score para a classe 1 (Não-Setosa)\n",
    "f1 = f1_score(y_test, y_pred)\n",
    "print(f\"F1-Score (Classe 1): {f1:.2f}\")"
   ]
  },
  {
   "cell_type": "markdown",
   "id": "c7140c8f-6c2b-464c-9338-b653f12f1add",
   "metadata": {},
   "source": [
    "## Como melhorar as medidas?"
   ]
  },
  {
   "cell_type": "markdown",
   "id": "03d7d055-8430-493c-8f56-7bb267b5b90b",
   "metadata": {},
   "source": [
    "### O Corte do Classificador (Threshold)\n",
    "\n",
    "Em um classificador binário, o modelo geralmente gera uma **probabilidade** de que uma amostra pertença a uma classe positiva ou negativa. O **corte** (ou threshold) é o valor a partir do qual o modelo decide se uma amostra pertence à classe positiva.\n",
    "\n",
    "Por **padrão**, muitos classificadores utilizam um **corte de 0.5**, o que significa que:\n",
    "\n",
    "- Se a probabilidade prevista pelo modelo for **maior ou igual a 0.5**, o exemplo é classificado como pertencente à **classe positiva** (classe `1`).\n",
    "- Se a probabilidade prevista for **menor que 0.5**, o exemplo é classificado como pertencente à **classe negativa** (classe `0`).\n",
    "\n",
    "Esse valor padrão de corte funciona bem em muitos casos, especialmente quando as classes estão balanceadas. No entanto, o ajuste desse corte pode influenciar drasticamente as métricas de desempenho, como precisão, revocação e F1-Score.\n",
    "\n",
    "#### Impacto da Mudança do Corte\n",
    "\n",
    "- **Aumento do corte (> 0.5)**: Quando o corte é aumentado, o classificador se torna mais conservador, ou seja, ele precisa de uma probabilidade maior para classificar uma amostra como pertencente à classe positiva. Isso pode:\n",
    "  - **Aumentar a Precisão**: Haverá menos falsos positivos, pois o modelo é mais rigoroso ao classificar uma amostra como positiva.\n",
    "  - **Diminuir a Revocação**: Algumas amostras positivas podem não atingir o corte elevado, resultando em mais falsos negativos.\n",
    "  \n",
    "- **Diminuição do corte (< 0.5)**: Quando o corte é reduzido, o classificador se torna mais permissivo, aceitando probabilidades mais baixas para classificar uma amostra como positiva. Isso pode:\n",
    "  - **Aumentar a Revocação**: O modelo captura mais exemplos da classe positiva, reduzindo falsos negativos.\n",
    "  - **Diminuir a Precisão**: Mais exemplos da classe negativa podem ser incorretamente classificados como positivos, resultando em mais falsos positivos."
   ]
  },
  {
   "cell_type": "code",
   "execution_count": 13,
   "id": "e9ddb2ee-3c10-4074-95e0-cb78d8f7db46",
   "metadata": {},
   "outputs": [],
   "source": [
    "# Gerando probabilidades de predição\n",
    "y_prob = model_bin.predict_proba(X_test)[:, 1]"
   ]
  },
  {
   "cell_type": "code",
   "execution_count": 14,
   "id": "5b641591-39ec-4328-a077-108720606d5f",
   "metadata": {},
   "outputs": [
    {
     "data": {
      "text/plain": [
       "(array([10., 10., 13., 16.,  8., 13., 12., 11.,  5.,  7.]),\n",
       " array([0.08106243, 0.15343398, 0.22580553, 0.29817709, 0.37054864,\n",
       "        0.44292019, 0.51529174, 0.58766329, 0.66003485, 0.7324064 ,\n",
       "        0.80477795]),\n",
       " <BarContainer object of 10 artists>)"
      ]
     },
     "execution_count": 14,
     "metadata": {},
     "output_type": "execute_result"
    },
    {
     "data": {
      "image/png": "[encoded data removed]",
      "text/plain": [
       "<Figure size 640x480 with 1 Axes>"
      ]
     },
     "metadata": {},
     "output_type": "display_data"
    }
   ],
   "source": [
    "plt.hist(y_prob)"
   ]
  },
  {
   "cell_type": "code",
   "execution_count": 15,
   "id": "a0360f0c-6077-44f8-9a6b-544352b31d36",
   "metadata": {},
   "outputs": [
    {
     "name": "stderr",
     "output_type": "stream",
     "text": [
      "/home/thiagorr/.cache/pypoetry/virtualenvs/prog-stat-5bravkBa-py3.10/lib/python3.10/site-packages/sklearn/metrics/_classification.py:1531: UndefinedMetricWarning: Precision is ill-defined and being set to 0.0 due to no predicted samples. Use `zero_division` parameter to control this behavior.\n",
      "  _warn_prf(average, modifier, f\"{metric.capitalize()} is\", len(result))\n",
      "/home/thiagorr/.cache/pypoetry/virtualenvs/prog-stat-5bravkBa-py3.10/lib/python3.10/site-packages/sklearn/metrics/_classification.py:1531: UndefinedMetricWarning: Precision is ill-defined and being set to 0.0 due to no predicted samples. Use `zero_division` parameter to control this behavior.\n",
      "  _warn_prf(average, modifier, f\"{metric.capitalize()} is\", len(result))\n",
      "/home/thiagorr/.cache/pypoetry/virtualenvs/prog-stat-5bravkBa-py3.10/lib/python3.10/site-packages/sklearn/metrics/_classification.py:1531: UndefinedMetricWarning: Precision is ill-defined and being set to 0.0 due to no predicted samples. Use `zero_division` parameter to control this behavior.\n",
      "  _warn_prf(average, modifier, f\"{metric.capitalize()} is\", len(result))\n",
      "/home/thiagorr/.cache/pypoetry/virtualenvs/prog-stat-5bravkBa-py3.10/lib/python3.10/site-packages/sklearn/metrics/_classification.py:1531: UndefinedMetricWarning: Precision is ill-defined and being set to 0.0 due to no predicted samples. Use `zero_division` parameter to control this behavior.\n",
      "  _warn_prf(average, modifier, f\"{metric.capitalize()} is\", len(result))\n"
     ]
    },
    {
     "data": {
      "image/png": "[encoded data removed]",
      "text/plain": [
       "<Figure size 1500x500 with 4 Axes>"
      ]
     },
     "metadata": {},
     "output_type": "display_data"
    }
   ],
   "source": [
    "# Definindo uma lista de thresholds (de 0 a 1 com incremento de 0.05)\n",
    "thresholds = np.arange(0.0, 1.05, 0.05)\n",
    "\n",
    "# Inicializando listas para armazenar precisão, revocação e acurácia\n",
    "precisions = []\n",
    "recalls = []\n",
    "accuracies = []\n",
    "f1_scores = []\n",
    "\n",
    "# Calculando precisão, revocação e acurácia para diferentes thresholds\n",
    "for threshold in thresholds:\n",
    "    y_pred_threshold = (y_prob >= threshold).astype(int)\n",
    "    precisions.append(precision_score(y_test, y_pred_threshold))\n",
    "    recalls.append(recall_score(y_test, y_pred_threshold))\n",
    "    accuracies.append(accuracy_score(y_test, y_pred_threshold))\n",
    "    f1_scores.append(f1_score(y_test, y_pred_threshold))\n",
    "    \n",
    "# Criando os gráficos\n",
    "plt.figure(figsize=(15, 5))\n",
    "\n",
    "# Gráfico da Revocação\n",
    "plt.subplot(1, 4, 1)\n",
    "plt.plot(thresholds, recalls, marker='o')\n",
    "plt.title('Curva de Revocação vs Threshold')\n",
    "plt.xlabel('Threshold')\n",
    "plt.ylabel('Revocação')\n",
    "\n",
    "# Gráfico da Precisão\n",
    "plt.subplot(1, 4, 2)\n",
    "plt.plot(thresholds, precisions, marker='o')\n",
    "plt.title('Curva de Precisão vs Threshold')\n",
    "plt.xlabel('Threshold')\n",
    "plt.ylabel('Precisão')\n",
    "\n",
    "# Gráfico da Acurácia\n",
    "plt.subplot(1, 4, 3)\n",
    "plt.plot(thresholds, accuracies, marker='o')\n",
    "plt.title('Curva de Acurácia vs Threshold')\n",
    "plt.xlabel('Threshold')\n",
    "plt.ylabel('Acurácia')\n",
    "\n",
    "# Gráfico do F1-Score\n",
    "plt.subplot(1, 4, 4)\n",
    "plt.plot(thresholds, f1_scores, marker='o')\n",
    "plt.title('Curva de F1-Score vs Threshold')\n",
    "plt.xlabel('Threshold')\n",
    "plt.ylabel('F1-Score')\n",
    "\n",
    "\n",
    "# Exibindo os gráficos\n",
    "plt.tight_layout()\n",
    "plt.show()"
   ]
  },
  {
   "cell_type": "markdown",
   "id": "b3798816-7359-42f3-bcc2-15e1c87b60d5",
   "metadata": {},
   "source": [
    "## Curva ROC (Receiver Operating Characteristic)\n",
    "\n",
    "A **Curva ROC** é uma ferramenta gráfica usada para avaliar a performance de classificadores binários em diferentes thresholds (pontos de corte). Ela plota a relação entre a **taxa de verdadeiros positivos** (revocação) e a **taxa de falsos positivos**, permitindo uma análise detalhada do desempenho do classificador.\n",
    "\n",
    "### Definições\n",
    "\n",
    "- **Taxa de Verdadeiros Positivos (True Positive Rate - TPR)**: Também conhecida como **revocação**, ela mede a proporção de exemplos positivos corretamente classificados:\n",
    "  \n",
    "  $$\n",
    "  \\text{TPR} = \\frac{VP}{VP + FN}\n",
    "  $$\n",
    "\n",
    "- **Taxa de Falsos Positivos (False Positive Rate - FPR)**: Mede a proporção de exemplos negativos que foram incorretamente classificados como positivos:\n",
    "  \n",
    "  $$\n",
    "  \\text{FPR} = \\frac{FP}{FP + VN}\n",
    "  $$\n",
    "\n",
    "### Interpretação da Curva ROC\n",
    "\n",
    "- A **Curva ROC** começa no ponto (0,0) e vai até (1,1). Quanto mais a curva se aproxima do canto superior esquerdo, melhor o desempenho do classificador.\n",
    "- Um **classificador perfeito** teria uma curva que sobe verticalmente até o ponto (0,1) e, em seguida, se move horizontalmente até o ponto (1,1).\n",
    "- Um **classificador aleatório** teria uma linha diagonal entre os pontos (0,0) e (1,1), o que indica que ele não está distinguindo corretamente entre as classes.\n",
    "\n",
    "### Área Sob a Curva (AUC - Area Under the Curve)\n",
    "\n",
    "A **AUC** representa a área sob a curva ROC e varia de 0 a 1. Um valor de AUC mais próximo de 1 indica que o classificador tem um bom desempenho, enquanto um valor próximo de 0.5 indica que o classificador está apenas \"chutando\".\n",
    "\n",
    "- **AUC = 1**: Classificador perfeito.\n",
    "- **AUC = 0.5**: Classificador aleatório.\n",
    "- **AUC < 0.5**: O modelo é pior que um classificador aleatório.\n"
   ]
  },
  {
   "cell_type": "code",
   "execution_count": 16,
   "id": "8306c70f-17da-4e79-9638-ec81bf8d3961",
   "metadata": {},
   "outputs": [
    {
     "data": {
      "image/png": "[encoded data removed]",
      "text/plain": [
       "<Figure size 800x600 with 1 Axes>"
      ]
     },
     "metadata": {},
     "output_type": "display_data"
    }
   ],
   "source": [
    "from sklearn.metrics import roc_curve, roc_auc_score\n",
    "\n",
    "fpr, tpr, thresholds = roc_curve(y_test, y_prob)\n",
    "\n",
    "# Calculando a AUC\n",
    "auc = roc_auc_score(y_test, y_prob)\n",
    "\n",
    "# Plotando a curva ROC\n",
    "plt.figure(figsize=(8, 6))\n",
    "plt.plot(fpr, tpr, label=f'AUC = {auc:.2f}')\n",
    "plt.plot([0, 1], [0, 1], 'k--')  # Linha diagonal (classificador aleatório)\n",
    "plt.title('Curva ROC')\n",
    "plt.xlabel('Taxa de Falsos Positivos (FPR)')\n",
    "plt.ylabel('Taxa de Verdadeiros Positivos (TPR)')\n",
    "plt.legend(loc='best')\n",
    "plt.grid(True)\n",
    "plt.show()"
   ]
  },
  {
   "cell_type": "markdown",
   "id": "9ce16f92-4c8c-432b-b4a3-8e349e3a968d",
   "metadata": {},
   "source": [
    "Abrir: https://developers.google.com/machine-learning/crash-course/classification/roc-and-auc"
   ]
  }
 ],
 "metadata": {
  "kernelspec": {
   "display_name": "Python 3 (ipykernel)",
   "language": "python",
   "name": "python3"
  },
  "language_info": {
   "codemirror_mode": {
    "name": "ipython",
    "version": 3
   },
   "file_extension": ".py",
   "mimetype": "text/x-python",
   "name": "python",
   "nbconvert_exporter": "python",
   "pygments_lexer": "ipython3",
   "version": "3.10.12"
  }
 },
 "nbformat": 4,
 "nbformat_minor": 5
}
