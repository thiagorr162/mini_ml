{
 "cells": [
  {
   "cell_type": "markdown",
   "id": "d1fc0d33-df6c-49eb-8111-b45129135332",
   "metadata": {},
   "source": [
    "# Resumo"
   ]
  },
  {
   "cell_type": "code",
   "execution_count": 1,
   "id": "b8c6dfc0-c22f-4817-88a1-a2a3f2f07705",
   "metadata": {},
   "outputs": [
    {
     "ename": "ModuleNotFoundError",
     "evalue": "No module named 'seaborn'",
     "output_type": "error",
     "traceback": [
      "\u001b[0;31m---------------------------------------------------------------------------\u001b[0m",
      "\u001b[0;31mModuleNotFoundError\u001b[0m                       Traceback (most recent call last)",
      "Cell \u001b[0;32mIn[1], line 1\u001b[0m\n\u001b[0;32m----> 1\u001b[0m \u001b[38;5;28;01mimport\u001b[39;00m \u001b[38;5;21;01mseaborn\u001b[39;00m \u001b[38;5;28;01mas\u001b[39;00m \u001b[38;5;21;01msns\u001b[39;00m\n\u001b[1;32m      2\u001b[0m \u001b[38;5;28;01mfrom\u001b[39;00m \u001b[38;5;21;01msklearn\u001b[39;00m\u001b[38;5;21;01m.\u001b[39;00m\u001b[38;5;21;01mmodel_selection\u001b[39;00m \u001b[38;5;28;01mimport\u001b[39;00m train_test_split\n\u001b[1;32m      3\u001b[0m \u001b[38;5;28;01mfrom\u001b[39;00m \u001b[38;5;21;01msklearn\u001b[39;00m\u001b[38;5;21;01m.\u001b[39;00m\u001b[38;5;21;01mlinear_model\u001b[39;00m \u001b[38;5;28;01mimport\u001b[39;00m LogisticRegression\n",
      "\u001b[0;31mModuleNotFoundError\u001b[0m: No module named 'seaborn'"
     ]
    }
   ],
   "source": [
    "import seaborn as sns\n",
    "from sklearn.model_selection import train_test_split\n",
    "from sklearn.linear_model import LogisticRegression\n",
    "from sklearn.ensemble import AdaBoostClassifier\n",
    "from sklearn.metrics import accuracy_score\n"
   ]
  },
  {
   "cell_type": "markdown",
   "id": "c783029a-f4d9-484b-a2fd-a00bc619f013",
   "metadata": {},
   "source": [
    "## Dataset Iris\n",
    "\n",
    "O **dataset Iris** é um dos conjuntos de dados mais clássicos e amplamente utilizados em aprendizado de máquina e estatística. Ele contém 150 amostras de flores da espécie **Iris**, divididas igualmente em três classes diferentes:\n",
    "\n",
    "### Atributos\n",
    "O dataset possui 4 características (ou variáveis explicativas) para cada amostra:\n",
    "- **Comprimento da sépala** (*sepal length*) em centímetros.\n",
    "- **Largura da sépala** (*sepal width*) em centímetros.\n",
    "- **Comprimento da pétala** (*petal length*) em centímetros.\n",
    "- **Largura da pétala** (*petal width*) em centímetros.\n",
    "\n",
    "### Classes\n",
    "As amostras estão classificadas em três categorias:\n",
    "- *Iris setosa*\n",
    "- *Iris versicolor*\n",
    "- *Iris virginica*\n",
    "\n",
    "Cada uma das três espécies tem 50 amostras."
   ]
  },
  {
   "cell_type": "markdown",
   "id": "bf75fc15-f5dd-4f26-a799-e4df67c6898b",
   "metadata": {},
   "source": [
    "## Problema: Utilizando os atributos, como prever a espécie da planta?"
   ]
  },
  {
   "cell_type": "markdown",
   "id": "3b77ce37-63b4-4fec-ac41-5b944ce2e272",
   "metadata": {},
   "source": [
    "### Análise dos Dados"
   ]
  },
  {
   "cell_type": "code",
   "execution_count": null,
   "id": "463af093-4afe-4857-a0ad-962280427bc1",
   "metadata": {},
   "outputs": [],
   "source": [
    "iris = sns.load_dataset('iris')\n"
   ]
  },
  {
   "cell_type": "code",
   "execution_count": null,
   "id": "4c7b6e5e-3839-4f92-8191-6a1e6c1d14fd",
   "metadata": {},
   "outputs": [],
   "source": [
    "iris.head()"
   ]
  },
  {
   "cell_type": "code",
   "execution_count": null,
   "id": "3243835c-7e60-4b50-a4ba-cf66e445c47b",
   "metadata": {},
   "outputs": [],
   "source": [
    "# Separar as features e o target\n",
    "X = iris.drop(columns=['species'])\n",
    "y = iris['species']"
   ]
  },
  {
   "cell_type": "code",
   "execution_count": null,
   "id": "86b68638-4c23-4f01-b40c-506e56d24bd1",
   "metadata": {},
   "outputs": [],
   "source": [
    "X.head()"
   ]
  },
  {
   "cell_type": "code",
   "execution_count": null,
   "id": "21408c80-ab56-49fa-9436-a451d2a326fc",
   "metadata": {},
   "outputs": [],
   "source": [
    "y"
   ]
  },
  {
   "cell_type": "markdown",
   "id": "99eaef0d-f908-4181-a1bd-20558d7a9448",
   "metadata": {},
   "source": [
    "### Separação em treino, calibração e teste"
   ]
  },
  {
   "cell_type": "code",
   "execution_count": null,
   "id": "34e86651-7699-4df1-a614-429281308b7c",
   "metadata": {},
   "outputs": [],
   "source": [
    "X_train, X_temp, y_train, y_temp = train_test_split(X, y, test_size=0.8, random_state=41, stratify=y)\n",
    "X_val, X_test, y_val, y_test = train_test_split(X_temp, y_temp, test_size=0.5, random_state=41, stratify=y_temp)"
   ]
  },
  {
   "cell_type": "markdown",
   "id": "65f5b08a-89eb-4d81-80f2-1c60d62e15d7",
   "metadata": {},
   "source": [
    "### Escolhemos o melhor modelo treinando no TREINO e validando no VAL"
   ]
  },
  {
   "cell_type": "code",
   "execution_count": null,
   "id": "45577262-d27e-45c7-923b-5c194bf19880",
   "metadata": {},
   "outputs": [],
   "source": [
    "# Modelo 1: Regressão Logística\n",
    "log_reg = LogisticRegression()\n",
    "log_reg.fit(X_train, y_train)\n",
    "y_train_pred_log = log_reg.predict(X_train)\n",
    "y_val_pred_log = log_reg.predict(X_val)\n",
    "train_accuracy_log = accuracy_score(y_train, y_train_pred_log)\n",
    "val_accuracy_log = accuracy_score(y_val, y_val_pred_log)\n",
    "\n",
    "# Modelo 2: AdaBoost\n",
    "ada_clf = AdaBoostClassifier()\n",
    "ada_clf.fit(X_train, y_train)\n",
    "y_train_pred_ada = ada_clf.predict(X_train)\n",
    "y_val_pred_ada = ada_clf.predict(X_val)\n",
    "train_accuracy_ada = accuracy_score(y_train, y_train_pred_ada)\n",
    "val_accuracy_ada = accuracy_score(y_val, y_val_pred_ada)\n"
   ]
  },
  {
   "cell_type": "code",
   "execution_count": null,
   "id": "d7932306-b9de-49c0-9b56-0075ccd7fdc8",
   "metadata": {},
   "outputs": [],
   "source": [
    "# Escolher o modelo com base na performance de validação\n",
    "best_model = log_reg if val_accuracy_log > val_accuracy_ada else ada_clf\n",
    "worst_model = log_reg if val_accuracy_log <= val_accuracy_ada else ada_clf\n",
    "\n",
    "# Avaliar o modelo escolhido no conjunto de teste\n",
    "y_test_pred_best = best_model.predict(X_test)\n",
    "test_accuracy_best = accuracy_score(y_test, y_test_pred_best)\n",
    "\n",
    "# Avaliar o pior modelo no conjunto de teste\n",
    "y_test_pred_worst = worst_model.predict(X_test)\n",
    "test_accuracy_worst = accuracy_score(y_test, y_test_pred_worst)\n",
    "\n",
    "best_model_name = \"Logistic Regression\" if best_model == log_reg else \"AdaBoost\"\n",
    "\n",
    "# Exibir os resultados\n",
    "print(f\"Acurácia no Treino (Logistic Regression): {train_accuracy_log:.4f}\")\n",
    "print(f\"Acurácia na Validação (Logistic Regression): {val_accuracy_log:.4f}\\n\")\n",
    "\n",
    "print(f\"Acurácia no Treino (AdaBoost): {train_accuracy_ada:.4f}\")\n",
    "print(f\"Acurácia na Validação (AdaBoost): {val_accuracy_ada:.4f}\\n\")\n",
    "\n",
    "print(f\"Modelo Escolhido: {best_model_name}\")\n",
    "print(f\"Acurácia no Teste (Modelo Escolhido): {test_accuracy_best:.4f}\")\n",
    "print(f\"Acurácia no Teste (Modelo não Escolhido): {test_accuracy_worst:.4f}\")"
   ]
  }
 ],
 "metadata": {
  "kernelspec": {
   "display_name": "Python 3 (ipykernel)",
   "language": "python",
   "name": "python3"
  },
  "language_info": {
   "codemirror_mode": {
    "name": "ipython",
    "version": 3
   },
   "file_extension": ".py",
   "mimetype": "text/x-python",
   "name": "python",
   "nbconvert_exporter": "python",
   "pygments_lexer": "ipython3",
   "version": "3.10.12"
  }
 },
 "nbformat": 4,
 "nbformat_minor": 5
}
