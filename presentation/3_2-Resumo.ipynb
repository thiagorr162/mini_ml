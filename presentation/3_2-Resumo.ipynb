{
 "cells": [
  {
   "cell_type": "code",
   "execution_count": 1,
   "id": "b8c6dfc0-c22f-4817-88a1-a2a3f2f07705",
   "metadata": {},
   "outputs": [],
   "source": [
    "import seaborn as sns\n",
    "from sklearn.model_selection import train_test_split\n",
    "from sklearn.linear_model import LogisticRegression\n",
    "from sklearn.ensemble import AdaBoostClassifier\n",
    "from sklearn.metrics import accuracy_score\n"
   ]
  },
  {
   "cell_type": "markdown",
   "id": "c783029a-f4d9-484b-a2fd-a00bc619f013",
   "metadata": {},
   "source": [
    "# Dataset Iris\n",
    "\n",
    "O **dataset Iris** é um dos conjuntos de dados mais clássicos e amplamente utilizados em aprendizado de máquina e estatística. Ele contém 150 amostras de flores da espécie **Iris**, divididas igualmente em três classes diferentes:\n",
    "\n",
    "## Atributos\n",
    "O dataset possui 4 características (ou variáveis explicativas) para cada amostra:\n",
    "- **Comprimento da sépala** (*sepal length*) em centímetros.\n",
    "- **Largura da sépala** (*sepal width*) em centímetros.\n",
    "- **Comprimento da pétala** (*petal length*) em centímetros.\n",
    "- **Largura da pétala** (*petal width*) em centímetros.\n",
    "\n",
    "## Classes\n",
    "As amostras estão classificadas em três categorias:\n",
    "- *Iris setosa*\n",
    "- *Iris versicolor*\n",
    "- *Iris virginica*\n",
    "\n",
    "Cada uma das três espécies tem 50 amostras."
   ]
  },
  {
   "cell_type": "markdown",
   "id": "bf75fc15-f5dd-4f26-a799-e4df67c6898b",
   "metadata": {},
   "source": [
    "# Problema: Utilizando os atributos, como prever a espécie da planta?"
   ]
  },
  {
   "cell_type": "markdown",
   "id": "3b77ce37-63b4-4fec-ac41-5b944ce2e272",
   "metadata": {},
   "source": [
    "## Análise dos Dados"
   ]
  },
  {
   "cell_type": "code",
   "execution_count": 2,
   "id": "463af093-4afe-4857-a0ad-962280427bc1",
   "metadata": {},
   "outputs": [],
   "source": [
    "iris = sns.load_dataset('iris')\n"
   ]
  },
  {
   "cell_type": "code",
   "execution_count": 3,
   "id": "4c7b6e5e-3839-4f92-8191-6a1e6c1d14fd",
   "metadata": {},
   "outputs": [
    {
     "data": {
      "text/html": [
       "<div>\n",
       "<style scoped>\n",
       "    .dataframe tbody tr th:only-of-type {\n",
       "        vertical-align: middle;\n",
       "    }\n",
       "\n",
       "    .dataframe tbody tr th {\n",
       "        vertical-align: top;\n",
       "    }\n",
       "\n",
       "    .dataframe thead th {\n",
       "        text-align: right;\n",
       "    }\n",
       "</style>\n",
       "<table border=\"1\" class=\"dataframe\">\n",
       "  <thead>\n",
       "    <tr style=\"text-align: right;\">\n",
       "      <th></th>\n",
       "      <th>sepal_length</th>\n",
       "      <th>sepal_width</th>\n",
       "      <th>petal_length</th>\n",
       "      <th>petal_width</th>\n",
       "      <th>species</th>\n",
       "    </tr>\n",
       "  </thead>\n",
       "  <tbody>\n",
       "    <tr>\n",
       "      <th>0</th>\n",
       "      <td>5.1</td>\n",
       "      <td>3.5</td>\n",
       "      <td>1.4</td>\n",
       "      <td>0.2</td>\n",
       "      <td>setosa</td>\n",
       "    </tr>\n",
       "    <tr>\n",
       "      <th>1</th>\n",
       "      <td>4.9</td>\n",
       "      <td>3.0</td>\n",
       "      <td>1.4</td>\n",
       "      <td>0.2</td>\n",
       "      <td>setosa</td>\n",
       "    </tr>\n",
       "    <tr>\n",
       "      <th>2</th>\n",
       "      <td>4.7</td>\n",
       "      <td>3.2</td>\n",
       "      <td>1.3</td>\n",
       "      <td>0.2</td>\n",
       "      <td>setosa</td>\n",
       "    </tr>\n",
       "    <tr>\n",
       "      <th>3</th>\n",
       "      <td>4.6</td>\n",
       "      <td>3.1</td>\n",
       "      <td>1.5</td>\n",
       "      <td>0.2</td>\n",
       "      <td>setosa</td>\n",
       "    </tr>\n",
       "    <tr>\n",
       "      <th>4</th>\n",
       "      <td>5.0</td>\n",
       "      <td>3.6</td>\n",
       "      <td>1.4</td>\n",
       "      <td>0.2</td>\n",
       "      <td>setosa</td>\n",
       "    </tr>\n",
       "  </tbody>\n",
       "</table>\n",
       "</div>"
      ],
      "text/plain": [
       "   sepal_length  sepal_width  petal_length  petal_width species\n",
       "0           5.1          3.5           1.4          0.2  setosa\n",
       "1           4.9          3.0           1.4          0.2  setosa\n",
       "2           4.7          3.2           1.3          0.2  setosa\n",
       "3           4.6          3.1           1.5          0.2  setosa\n",
       "4           5.0          3.6           1.4          0.2  setosa"
      ]
     },
     "execution_count": 3,
     "metadata": {},
     "output_type": "execute_result"
    }
   ],
   "source": [
    "iris.head()"
   ]
  },
  {
   "cell_type": "code",
   "execution_count": 4,
   "id": "3243835c-7e60-4b50-a4ba-cf66e445c47b",
   "metadata": {},
   "outputs": [],
   "source": [
    "# Separar as features e o target\n",
    "X = iris.drop(columns=['species'])\n",
    "y = iris['species']"
   ]
  },
  {
   "cell_type": "code",
   "execution_count": 5,
   "id": "86b68638-4c23-4f01-b40c-506e56d24bd1",
   "metadata": {},
   "outputs": [
    {
     "data": {
      "text/html": [
       "<div>\n",
       "<style scoped>\n",
       "    .dataframe tbody tr th:only-of-type {\n",
       "        vertical-align: middle;\n",
       "    }\n",
       "\n",
       "    .dataframe tbody tr th {\n",
       "        vertical-align: top;\n",
       "    }\n",
       "\n",
       "    .dataframe thead th {\n",
       "        text-align: right;\n",
       "    }\n",
       "</style>\n",
       "<table border=\"1\" class=\"dataframe\">\n",
       "  <thead>\n",
       "    <tr style=\"text-align: right;\">\n",
       "      <th></th>\n",
       "      <th>sepal_length</th>\n",
       "      <th>sepal_width</th>\n",
       "      <th>petal_length</th>\n",
       "      <th>petal_width</th>\n",
       "    </tr>\n",
       "  </thead>\n",
       "  <tbody>\n",
       "    <tr>\n",
       "      <th>0</th>\n",
       "      <td>5.1</td>\n",
       "      <td>3.5</td>\n",
       "      <td>1.4</td>\n",
       "      <td>0.2</td>\n",
       "    </tr>\n",
       "    <tr>\n",
       "      <th>1</th>\n",
       "      <td>4.9</td>\n",
       "      <td>3.0</td>\n",
       "      <td>1.4</td>\n",
       "      <td>0.2</td>\n",
       "    </tr>\n",
       "    <tr>\n",
       "      <th>2</th>\n",
       "      <td>4.7</td>\n",
       "      <td>3.2</td>\n",
       "      <td>1.3</td>\n",
       "      <td>0.2</td>\n",
       "    </tr>\n",
       "    <tr>\n",
       "      <th>3</th>\n",
       "      <td>4.6</td>\n",
       "      <td>3.1</td>\n",
       "      <td>1.5</td>\n",
       "      <td>0.2</td>\n",
       "    </tr>\n",
       "    <tr>\n",
       "      <th>4</th>\n",
       "      <td>5.0</td>\n",
       "      <td>3.6</td>\n",
       "      <td>1.4</td>\n",
       "      <td>0.2</td>\n",
       "    </tr>\n",
       "  </tbody>\n",
       "</table>\n",
       "</div>"
      ],
      "text/plain": [
       "   sepal_length  sepal_width  petal_length  petal_width\n",
       "0           5.1          3.5           1.4          0.2\n",
       "1           4.9          3.0           1.4          0.2\n",
       "2           4.7          3.2           1.3          0.2\n",
       "3           4.6          3.1           1.5          0.2\n",
       "4           5.0          3.6           1.4          0.2"
      ]
     },
     "execution_count": 5,
     "metadata": {},
     "output_type": "execute_result"
    }
   ],
   "source": [
    "X.head()"
   ]
  },
  {
   "cell_type": "code",
   "execution_count": 6,
   "id": "21408c80-ab56-49fa-9436-a451d2a326fc",
   "metadata": {},
   "outputs": [
    {
     "data": {
      "text/plain": [
       "0         setosa\n",
       "1         setosa\n",
       "2         setosa\n",
       "3         setosa\n",
       "4         setosa\n",
       "         ...    \n",
       "145    virginica\n",
       "146    virginica\n",
       "147    virginica\n",
       "148    virginica\n",
       "149    virginica\n",
       "Name: species, Length: 150, dtype: object"
      ]
     },
     "execution_count": 6,
     "metadata": {},
     "output_type": "execute_result"
    }
   ],
   "source": [
    "y"
   ]
  },
  {
   "cell_type": "markdown",
   "id": "99eaef0d-f908-4181-a1bd-20558d7a9448",
   "metadata": {},
   "source": [
    "## Separação em treino, calibração e teste"
   ]
  },
  {
   "cell_type": "code",
   "execution_count": 9,
   "id": "34e86651-7699-4df1-a614-429281308b7c",
   "metadata": {},
   "outputs": [],
   "source": [
    "X_train, X_temp, y_train, y_temp = train_test_split(X, y, test_size=0.8, random_state=41, stratify=y)\n",
    "X_val, X_test, y_val, y_test = train_test_split(X_temp, y_temp, test_size=0.5, random_state=41, stratify=y_temp)"
   ]
  },
  {
   "cell_type": "markdown",
   "id": "65f5b08a-89eb-4d81-80f2-1c60d62e15d7",
   "metadata": {},
   "source": [
    "## Escolhemos o melhor modelo treinando no TREINO e validando no VAL"
   ]
  },
  {
   "cell_type": "code",
   "execution_count": 10,
   "id": "45577262-d27e-45c7-923b-5c194bf19880",
   "metadata": {},
   "outputs": [
    {
     "name": "stderr",
     "output_type": "stream",
     "text": [
      "/home/thiagorr/.cache/pypoetry/virtualenvs/mini-ml-luDbzdvy-py3.10/lib/python3.10/site-packages/sklearn/ensemble/_weight_boosting.py:527: FutureWarning: The SAMME.R algorithm (the default) is deprecated and will be removed in 1.6. Use the SAMME algorithm to circumvent this warning.\n",
      "  warnings.warn(\n"
     ]
    }
   ],
   "source": [
    "# Modelo 1: Regressão Logística\n",
    "log_reg = LogisticRegression()\n",
    "log_reg.fit(X_train, y_train)\n",
    "y_train_pred_log = log_reg.predict(X_train)\n",
    "y_val_pred_log = log_reg.predict(X_val)\n",
    "train_accuracy_log = accuracy_score(y_train, y_train_pred_log)\n",
    "val_accuracy_log = accuracy_score(y_val, y_val_pred_log)\n",
    "\n",
    "# Modelo 2: AdaBoost\n",
    "ada_clf = AdaBoostClassifier()\n",
    "ada_clf.fit(X_train, y_train)\n",
    "y_train_pred_ada = ada_clf.predict(X_train)\n",
    "y_val_pred_ada = ada_clf.predict(X_val)\n",
    "train_accuracy_ada = accuracy_score(y_train, y_train_pred_ada)\n",
    "val_accuracy_ada = accuracy_score(y_val, y_val_pred_ada)\n"
   ]
  },
  {
   "cell_type": "code",
   "execution_count": 11,
   "id": "d7932306-b9de-49c0-9b56-0075ccd7fdc8",
   "metadata": {},
   "outputs": [
    {
     "name": "stdout",
     "output_type": "stream",
     "text": [
      "Acurácia no Treino (Logistic Regression): 1.0000\n",
      "Acurácia na Validação (Logistic Regression): 0.9333\n",
      "\n",
      "Acurácia no Treino (AdaBoost): 1.0000\n",
      "Acurácia na Validação (AdaBoost): 0.9667\n",
      "\n",
      "Modelo Escolhido: AdaBoost\n",
      "Acurácia no Teste (Modelo Escolhido): 0.9667\n",
      "Acurácia no Teste (Modelo não Escolhido): 0.9333\n"
     ]
    }
   ],
   "source": [
    "# Escolher o modelo com base na performance de validação\n",
    "best_model = log_reg if val_accuracy_log > val_accuracy_ada else ada_clf\n",
    "worst_model = log_reg if val_accuracy_log <= val_accuracy_ada else ada_clf\n",
    "\n",
    "# Avaliar o modelo escolhido no conjunto de teste\n",
    "y_test_pred_best = best_model.predict(X_test)\n",
    "test_accuracy_best = accuracy_score(y_test, y_test_pred_best)\n",
    "\n",
    "# Avaliar o pior modelo no conjunto de teste\n",
    "y_test_pred_worst = worst_model.predict(X_test)\n",
    "test_accuracy_worst = accuracy_score(y_test, y_test_pred_worst)\n",
    "\n",
    "best_model_name = \"Logistic Regression\" if best_model == log_reg else \"AdaBoost\"\n",
    "\n",
    "# Exibir os resultados\n",
    "print(f\"Acurácia no Treino (Logistic Regression): {train_accuracy_log:.4f}\")\n",
    "print(f\"Acurácia na Validação (Logistic Regression): {val_accuracy_log:.4f}\\n\")\n",
    "\n",
    "print(f\"Acurácia no Treino (AdaBoost): {train_accuracy_ada:.4f}\")\n",
    "print(f\"Acurácia na Validação (AdaBoost): {val_accuracy_ada:.4f}\\n\")\n",
    "\n",
    "print(f\"Modelo Escolhido: {best_model_name}\")\n",
    "print(f\"Acurácia no Teste (Modelo Escolhido): {test_accuracy_best:.4f}\")\n",
    "print(f\"Acurácia no Teste (Modelo não Escolhido): {test_accuracy_worst:.4f}\")"
   ]
  }
 ],
 "metadata": {
  "kernelspec": {
   "display_name": "Python 3 (ipykernel)",
   "language": "python",
   "name": "python3"
  },
  "language_info": {
   "codemirror_mode": {
    "name": "ipython",
    "version": 3
   },
   "file_extension": ".py",
   "mimetype": "text/x-python",
   "name": "python",
   "nbconvert_exporter": "python",
   "pygments_lexer": "ipython3",
   "version": "3.10.12"
  }
 },
 "nbformat": 4,
 "nbformat_minor": 5
}
